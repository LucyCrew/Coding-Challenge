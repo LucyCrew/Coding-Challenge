{
 "cells": [
  {
   "cell_type": "code",
   "execution_count": 1,
   "metadata": {},
   "outputs": [],
   "source": [
    "\n",
    "#  subrountine TREE( N, adj, root)\n",
    "#  Subroutine finds all unique vertex sets T={v_0,v_1,...,v_n} in graph G rooted at v_0\n",
    "#  such that (v_i, v_j) is an edge in G for some v_i and v_j in T\n",
    "#  So there is a spanning tree of length n in G rooted at v_0 that covers T.\n",
    "#\n",
    "#  Input: N = total number of vertices in G\n",
    "#            adj[ ] = adjaceny list defining G\n",
    "#            root = label of rooted vertex\n",
    "#  Output: T[ m ] = list of all connected vertex sets of size (m+1), m=0,1,2,...,N-1\n",
    "#                K(m) = number of sets in T[m]\n",
    "#\n",
    "def TREE( N, adj, root):\n",
    "    import numpy as np\n",
    "    K=np.zeros(N)\n",
    "    T=[ [] ]*N\n",
    "    \n",
    "    T[0]=[{root}]             # the root of the tree\n",
    "    K[0]=len(T[0])          # by definition\n",
    "\n",
    "    for nv in range(1,N):\n",
    "        T[nv]=[ ]               # start connected set of (size=nv)  list with empty list\n",
    "\n",
    "        for  subT in T[nv-1]:     # take each connected set  of (size=nv-1) subT\n",
    "            S=subT\n",
    "            \n",
    "            for element in S:          # take each vertex in subT\n",
    "                A=adj[int(element)]  # A is the set of  vertices that are adjacent to selected vertex in subT\n",
    "                \n",
    "                for a in A:         # take each vertex in A\n",
    "                    X=S | {a}      # take the union ( X = subT U a) where a is vertex in adjacency set A\n",
    "                    if len(X) > len(S):    #  X is a set in T[nv]\n",
    "                        if X not in T[nv]:   #  add X to T[nv] if X has not been previously added\n",
    "                            T[nv].append(X)\n",
    "                            \n",
    "        K[nv]=len(T[nv])      # calculate the total number of sets in T[nv]\n",
    "\n",
    "    return T,K\n"
   ]
  },
  {
   "cell_type": "code",
   "execution_count": null,
   "metadata": {},
   "outputs": [],
   "source": []
  },
  {
   "cell_type": "code",
   "execution_count": 2,
   "metadata": {},
   "outputs": [],
   "source": [
    "\n",
    "# subroutine GROW_1(N,adj,T,K,Nstep)\n",
    "# Subroutine finds the distribution of the paths generated from a root specified by T[0][0]\n",
    "# in a graph G among the vertex-spanning sets in T[0], T[1], ... , T[N] after Nstep-1.\n",
    "# Subroutine calculates the probabilities of the path containing 1,2,...,N vertices at each step.\n",
    "#\n",
    "#  Input: N = total number of vertices in G\n",
    "#            adj[ ] = adjaceny list defining G\n",
    "#            T[ m ] = list of all connected vertex sets of size (m+1), m=0,1,2,...,N-1\n",
    "#            K(m) = number of sets in T[m]\n",
    "#            Nstep = number of steps at which calculation is stopped\n",
    "#\n",
    "# Output: A[ T[m] ] =  total number of paths belonging to each vertex spanning set after Nstep-1\n",
    "#              Total(n) =  total number of possible paths after n steps, for n=0,1, ... , Nstep-1\n",
    "#              p(n) = probability vector for path containing 1,2,...,N vertices after n steps\n",
    "#\n",
    "# Other variables: Kmax = max{K(m)}  \n",
    "#                              c(i, j, k) = the number of paths with vertex set T[ i, j ] ending at vertex k at n step\n",
    "#                              cx(i, j, k) = same as c(i, j, k) at the next  (n+1) step\n",
    "#\n",
    "def GROW_1(N,adj,T,K,Nstep):\n",
    "    import numpy as np\n",
    "# np.arrays declarations:\n",
    "    Kmax=int(np.max(K))\n",
    "    A=np.zeros((N,Kmax))\n",
    "    Total=np.zeros(Nstep)\n",
    "    c=np.zeros((N,Kmax,N))\n",
    "    cx=np.zeros((N,Kmax,N))\n",
    "    p=np.zeros((Nstep,N))\n",
    "\n",
    "# at ns=0, initial condition:\n",
    "    c[0,0,0]=1.\n",
    "    p[0,0]=1.\n",
    "    Total[0]=1.\n",
    "\n",
    "# at ns=1. after 1 step\n",
    "    cx[0,0,0]=0.\n",
    "    for xi in range(int(K[1])):   # path moves from root to adjacent vertex\n",
    "        cx[1,xi,0]=0.                   # no paths ending at root vertex\n",
    "        rx=T[1][xi]-T[0][0]           # adjacent vertex \n",
    "        for r in rx:\n",
    "            cx[1,xi,int(r)]=1.          # path of length 2 ending on adjacent vertex\n",
    "    p[1,0]=0.                             # no possibility of path of length 1\n",
    "    p[1,1]=1.                             # all paths contain 2 vertices, or 1 edge\n",
    "    Total[1]=np.sum(cx)\n",
    "    c=cx.copy( )                        # update for next step ns+1=2\n",
    "    cx=np.zeros((N,Kmax,N))\n",
    "\n",
    "# at ns =2, ... , Nstep-1\n",
    "    for ns in range(2,Nstep):\n",
    "        Nx=min(Nstep,N)             # calculates only up to Nstep if Nstep<N\n",
    "        for i in range(1,Nx):\n",
    "            for j in range(int(K[i])):\n",
    "                for k in range(N):     # calculations for cx[i, j, k]        \n",
    "                    sum0=0.               # sum0 = contribution from T[i] same size sets\n",
    "                    sum1=0.               # sum1 = contribution from T[i-1] smaller size sets\n",
    "\n",
    "                    if k in T[i][j]:           # check to see if T[i][j][k] is a valid path specification \n",
    "                                                  #  if not then cx[i, j, k] = 0.0\n",
    "                                                  \n",
    "                        for a in adj[k]:                        # sum all contribution from T[i][j] with end vector \n",
    "                            sum0=sum0+c[i,j,int(a)]   #  in adj[k]\n",
    "                        \n",
    "                            if i >1:                                    # sum all contribution from T[i-1] for i>1\n",
    "                                for js in range(int(K[i-1])):                                   # all T[i-1] are considered\n",
    "                                    if (a in T[i-1][js]) & (T[i-1][js]|{k}==T[i][j]):  # require a in adj[k] to be in T[i-1][js]\n",
    "                                        sum1=sum1+c[i-1,js,int(a)]                        # AND T[i-1][js] U {k} == T[i][j] \n",
    "                                           \n",
    "                    cx[i,j,k]=sum0+sum1       # next time step cx[ i, j, k] = sum0 +sum1                        \n",
    "    \n",
    "        Total[ns]=np.sum(cx)        # total all possible paths at ns step                \n",
    "        A=np.sum(cx,axis=2)       # the T[i] distribution at the last step\n",
    "        p[ns]=np.sum(A,axis=1)/Total[ns]    # the probability vector at ns step\n",
    "        c=cx.copy( )                                        # update for next step ns+1\n",
    "        cx=np.zeros((N,Kmax,N))\n",
    "\n",
    "    return  A, Total, p\n",
    "\n"
   ]
  },
  {
   "cell_type": "code",
   "execution_count": null,
   "metadata": {},
   "outputs": [],
   "source": []
  },
  {
   "cell_type": "code",
   "execution_count": 3,
   "metadata": {},
   "outputs": [],
   "source": [
    "N=12\n",
    "adj=[[]]*N\n",
    "adj[0]=[4,6]\n",
    "adj[1]=[6,8]\n",
    "adj[2]=[7,9]\n",
    "adj[3]=[4,8]\n",
    "adj[4]=[0,3,9]\n",
    "adj[5]=[10,11]\n",
    "adj[6]=[0,1,7]\n",
    "adj[7]=[2,6,11]\n",
    "adj[8]=[1,3]\n",
    "adj[9]=[2,4,10]\n",
    "adj[10]=[5,9]\n",
    "adj[11]=[5,7]\n",
    "root=0"
   ]
  },
  {
   "cell_type": "code",
   "execution_count": null,
   "metadata": {},
   "outputs": [],
   "source": []
  },
  {
   "cell_type": "code",
   "execution_count": 4,
   "metadata": {},
   "outputs": [],
   "source": [
    "T,K = TREE(N,adj,root)"
   ]
  },
  {
   "cell_type": "code",
   "execution_count": null,
   "metadata": {},
   "outputs": [],
   "source": []
  },
  {
   "cell_type": "code",
   "execution_count": 5,
   "metadata": {},
   "outputs": [],
   "source": [
    "csvData=[['i','K(i)','T(i,j),j=0,1,...,K(i)-1']]\n",
    "for i in range(N):\n",
    "    XX=[]\n",
    "    for j in range(int(K[i])):\n",
    "        XX.append(T[i][j])\n",
    "    csvData.append([i,K[i],XX])"
   ]
  },
  {
   "cell_type": "code",
   "execution_count": null,
   "metadata": {},
   "outputs": [],
   "source": []
  },
  {
   "cell_type": "code",
   "execution_count": 6,
   "metadata": {},
   "outputs": [],
   "source": [
    "import csv\n",
    "with open('TREE.csv','w') as csvFile:\n",
    "    writer=csv.writer(csvFile)\n",
    "    writer.writerows(csvData)\n",
    "csvFile.close()"
   ]
  },
  {
   "cell_type": "code",
   "execution_count": null,
   "metadata": {},
   "outputs": [],
   "source": []
  },
  {
   "cell_type": "code",
   "execution_count": 7,
   "metadata": {},
   "outputs": [],
   "source": [
    "Nstep=50\n",
    "A, Total, p = GROW_1(N,adj,T,K,Nstep)"
   ]
  },
  {
   "cell_type": "code",
   "execution_count": null,
   "metadata": {},
   "outputs": [],
   "source": []
  },
  {
   "cell_type": "code",
   "execution_count": 8,
   "metadata": {},
   "outputs": [],
   "source": [
    "csvData=[['n','[p0,p1,p2,p3,p4,p5,p6,p7,p8,p9,p10,p11]','# paths']]\n",
    "for i in range(Nstep):\n",
    "    XX=[]\n",
    "    for x in range(N):\n",
    "        XX.append(p[i,x])\n",
    "    csvData.append([i,XX,Total[i]])\n"
   ]
  },
  {
   "cell_type": "code",
   "execution_count": null,
   "metadata": {},
   "outputs": [],
   "source": []
  },
  {
   "cell_type": "code",
   "execution_count": 9,
   "metadata": {},
   "outputs": [],
   "source": [
    "with open('GROW_1.csv','w') as csvFile:\n",
    "    writer=csv.writer(csvFile)\n",
    "    writer.writerows(csvData)\n",
    "csvFile.close()"
   ]
  },
  {
   "cell_type": "code",
   "execution_count": null,
   "metadata": {},
   "outputs": [],
   "source": []
  },
  {
   "cell_type": "markdown",
   "metadata": {},
   "source": [
    "The data files were altered with a simple \"find & replace\" to get rid of unwanted notational glitches."
   ]
  },
  {
   "cell_type": "code",
   "execution_count": null,
   "metadata": {},
   "outputs": [],
   "source": []
  },
  {
   "cell_type": "code",
   "execution_count": null,
   "metadata": {},
   "outputs": [],
   "source": []
  },
  {
   "cell_type": "code",
   "execution_count": null,
   "metadata": {},
   "outputs": [],
   "source": []
  }
 ],
 "metadata": {
  "kernelspec": {
   "display_name": "Python 2",
   "language": "python",
   "name": "python2"
  },
  "language_info": {
   "codemirror_mode": {
    "name": "ipython",
    "version": 2
   },
   "file_extension": ".py",
   "mimetype": "text/x-python",
   "name": "python",
   "nbconvert_exporter": "python",
   "pygments_lexer": "ipython2",
   "version": "2.7.15"
  }
 },
 "nbformat": 4,
 "nbformat_minor": 2
}
