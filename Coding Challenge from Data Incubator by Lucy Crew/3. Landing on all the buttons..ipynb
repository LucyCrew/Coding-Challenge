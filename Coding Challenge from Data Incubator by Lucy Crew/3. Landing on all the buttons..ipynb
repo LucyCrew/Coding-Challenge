{
 "cells": [
  {
   "cell_type": "markdown",
   "metadata": {},
   "source": [
    "## 3. Landing on all the buttons."
   ]
  },
  {
   "cell_type": "markdown",
   "metadata": {},
   "source": [
    "If instead of finding where the most likely button the knight will be on after $n$ number of moves, we want to find the probability that the knight has landed on at least half of the buttons on the keypad after $n$ moves, or on all the buttons of the keypad after $n$ moves. We cannot use the previous method of adjacency matrix multiplication because it does not record the history of the knight movements. We begin by showing how to solve the problem for the case of traversing all the buttons for, first, when no backtracking is allowed, then when backtracking or random movement is allowed.<br>\n",
    "An application of this is using the graph representing a network to calculate the probability that everyone will receive the same news after a specific amount of time."
   ]
  },
  {
   "cell_type": "markdown",
   "metadata": {},
   "source": [
    "### 3.1 Landing on all the buttons without backtracking."
   ]
  },
  {
   "cell_type": "markdown",
   "metadata": {},
   "source": [
    "In the previous sections, we were interested in the probability of going from $v_j$ to $v_i$ after $n$ steps.  But just as important, we should look at the possibility of the knight chess piece going through all the buttons on the keypad or just the digit buttons. If the knight cannot go back to buttons it has already visited, then for a knight starting at **0** the minimum number of steps to accomplish this for all the buttons is $n= 11$, and for just the digit buttons  $n= 10$, since the knight needs to step on either ** '*' ** or ** '#' ** before getting to ** '5' **."
   ]
  },
  {
   "cell_type": "markdown",
   "metadata": {},
   "source": [
    "We revisualize our previous graph to make it easier to see the vertex-spanning or **\"Hamilton\"** path."
   ]
  },
  {
   "cell_type": "markdown",
   "metadata": {},
   "source": [
    "![title](img/FX5.png)"
   ]
  },
  {
   "cell_type": "markdown",
   "metadata": {},
   "source": [
    "The Hamilton path **(0, 4, 3, 8, 1, 6, 7, #, 5, *, 9, 2)** and the corresponding knight movements on the keypad are shown.  From the graph it is easy to see that all Hamilton paths, regardless of starting vertex, must contain exactly one of **{(6,7),(4,9)}** . If it excludes both these edges then it would be impossible to get from the left side to the right side of the graph, and if both edges are included then the vertices **2** or **0** would be excluded."
   ]
  },
  {
   "cell_type": "markdown",
   "metadata": {},
   "source": [
    "> The Hamilton paths starting at **0** going through **(6,7)** are:\n",
    " **(0, 4, 3, 8, 1, 6, 7, #, 5, *, 9, 2)** and **(0, 4, 3, 8, 1, 6, 7, 2, 9, *, 5, #)**<br>\n",
    " The Hamilton paths starting at **0** going through **(4,9)** are:\n",
    " **(0, 6, 1, 8, 3, 4, 9, *, 5, #, 7, 2 )** and **(0, 6, 1, 8, 3, 4, 9, 2, 7, #, 5,*)**"
   ]
  },
  {
   "cell_type": "markdown",
   "metadata": {},
   "source": [
    "For going through all the buttons starting from **0** after 11 steps, there are 4 possible Hamiliton paths and the total number of possible paths from **0** after 11 steps is 18326. So the probability of going through all the buttons is $\\frac{4}{18326}=2.1827\\times 10^{-4} \\approx 0.022\\%$"
   ]
  },
  {
   "cell_type": "markdown",
   "metadata": {},
   "source": [
    "For going through only the digit buttons starting from **0** after 10 steps, there are 2 possible Hamiliton paths and the total number of possible paths from **0** after 10 steps is 7540. So the probability of going through all the digit buttons is $\\frac{2}{7540}=2.6525\\times 10^{-4}\\approx 0.027\\%$"
   ]
  },
  {
   "cell_type": "markdown",
   "metadata": {},
   "source": [
    "The probability for both cases are extremely small. There are only four more Hamilton paths in the graph.   "
   ]
  },
  {
   "cell_type": "markdown",
   "metadata": {},
   "source": [
    "> The Hamilton paths *not* starting at **0** going through **(6,7)** are:\n",
    " **(3, 8, 1, 6, 0, 4, 9, *, 5, #, 7, 2)** and **(3, 8, 1, 6, 0, 4, 9, 2, 7, #, 5, *)**<br>\n",
    " The Hamilton paths *not* starting at **0** going through **(4,9)** are:\n",
    " **(1, 8, 3, 4, 0, 6, 7, 2, 9, *, 5, #)** and **(1, 8, 3, 4, 0, 6, 7, #, 5, *, 9, 2)**"
   ]
  },
  {
   "cell_type": "markdown",
   "metadata": {},
   "source": [
    "So there are no Hamilton paths starting or ending at the vertices **{4, 5, 6, 7, 8, 9}**.  If the starting vertex is any of them then it would require more steps and backtracking to cover all the required vertices.  "
   ]
  },
  {
   "cell_type": "markdown",
   "metadata": {},
   "source": [
    "If we have two knights starting at two different positions and if the first knight is placed on any button on the left side of the graph **{0, 1, 3, 4, 6, 8}** and the second on any on the right side **{2, 5, 7, 9, *, #}** then the minimum number of steps to cover all the button is 5 since each knight can cover a distinct set of 6 vertices in 5 steps.   "
   ]
  },
  {
   "cell_type": "markdown",
   "metadata": {},
   "source": [
    "If we choose the two starting positions **0** and **2**, then<br>\n",
    "$\\quad\\quad\\quad$from **0** there are two paths of lenght 5 covering the left side **(0, 6, 1, 8, 3, 4)** and **(0, 4, 3, 8, 1, 6)** <br> \n",
    "$\\quad\\quad\\quad$from **2** there are two paths of lenght 5 covering the left side **(2, 7, #, 5, *, 9)** and **(2, 9, *, 5, #, 7)**<br>\n",
    "$\\quad\\quad\\quad\\quad\\quad\\quad$ and <br>\n",
    "$\\quad\\quad\\quad$from **0** path **(0, 4, 9, *, 5, #)** and from **2** path **(2, 7, 6, 1, 8, 3)** <br>\n",
    "$\\quad\\quad\\quad\\quad\\quad\\quad$ and <br>\n",
    "$\\quad\\quad\\quad$from **0** path **(0, 6, 7, #, 5, *)** and from **2** path **(2, 9, 4, 3, 8, 1)**."
   ]
  },
  {
   "cell_type": "markdown",
   "metadata": {},
   "source": [
    "The probability of covering all the vertices with a knight starting at **0** and **2** after 5 steps is:"
   ]
  },
  {
   "cell_type": "markdown",
   "metadata": {},
   "source": [
    "$$\\frac{(2 \\times 2)+(1 \\times 1)+(1 \\times 1)}{\\tau(0,5)\\times \\tau(2,5)}\n",
    "\\quad\\text{ where }  \\tau(i,n) \n",
    "\\text{ is the total number of paths starting from } i \\text{ after } n \\text{ steps}$$"
   ]
  },
  {
   "cell_type": "markdown",
   "metadata": {},
   "source": [
    "From our previous results in section 1 and by symmetry of the graph $\\tau(0,5)=\\tau(2,5)=86$, so the above probability is  $8.1125 \\times 10^{-4}\\approx 0.081\\%$  which is higher than using only one starting vertex, either **0** or **2**, after more than twice the number of steps.   "
   ]
  },
  {
   "cell_type": "markdown",
   "metadata": {},
   "source": [
    "$\\quad$"
   ]
  },
  {
   "cell_type": "markdown",
   "metadata": {},
   "source": [
    "### 3.2 Landing on all the buttons with backtracking."
   ]
  },
  {
   "cell_type": "markdown",
   "metadata": {},
   "source": [
    "From **3.1** we see that the path starting at **0** cannot contain only the vertices in the set **{0, 1, 2, 3, 4, 5, 6, 7, 8, 9}**."
   ]
  },
  {
   "cell_type": "markdown",
   "metadata": {},
   "source": [
    "For paths covering only two vertices, there are two possibilities: **{0,4}** and **{0,6}**. The path associated with each set is simply oscillating between the two vertices in the set over successive steps.  "
   ]
  },
  {
   "cell_type": "markdown",
   "metadata": {},
   "source": [
    "For paths covering 3 vertices, there are 5 possibilities: **{0, 1, 6}** ,**{0, 3, 4}** ,**{0, 4, 6}** ,**{0, 4, 9}** , and **{0, 6, 7}**."
   ]
  },
  {
   "cell_type": "markdown",
   "metadata": {},
   "source": [
    "For paths starting at vertex $v_0$ covering $m$ vertices where $m \\le |V|$ and $V$ is the vertex set of the graph $G$,<br>  $V_\\alpha \\subset V$ is a valid subset containing path vertices if\n",
    "$$ \\forall v_i \\in V_\\alpha, \\exists v_j \\in V_\\alpha \\quad\\text{such that  } (v_i,v_j) \\text{  is an edge }\\in G$$"
   ]
  },
  {
   "cell_type": "markdown",
   "metadata": {},
   "source": [
    "So $V_\\alpha$ consists of all vertex sets specifying a tree rooted at $v_0$ in $G$."
   ]
  },
  {
   "cell_type": "markdown",
   "metadata": {},
   "source": [
    "The path vertex trees can be labelled by $T(i,j)$ where $i+1$ is the number of vertices and $j$ is the tree number and $K(i)$ gives the total number of trees with $i+1$ vertices or $i$ edges.  By definition $T(0,0)$ is the root of the tree.  This is illutrated below for the vertex subsets just described. "
   ]
  },
  {
   "cell_type": "markdown",
   "metadata": {},
   "source": [
    "![title](img\\GX1.png)"
   ]
  },
  {
   "cell_type": "markdown",
   "metadata": {},
   "source": [
    "Unlike the adjacency matrix $M$ calculations in **3.1** and **3.2** which give information related to the start and end of a path, calculations using trees $T(i,j)$ give the history of a path, specifying which vertices it has visited.  This is well-suited for calculating the probabilty that a random path of length $n$ has covered all or half of the vertices in $G$ starting from $v_0$."
   ]
  },
  {
   "cell_type": "markdown",
   "metadata": {},
   "source": [
    "We can find all the trees $T(i,j)$ on a graph by a **DFS** (**D**epth-**F**irst **S**earch) algorithm.  The code is given in the subroutine TREE in **4. Programming codes**.  The results for our knight-keypad problem are in the table below where **#** is labelled 11 and ** * ** is 10. *The programs are run, then the results are stored in a csv file which can be imported into a Pandas Dataframe.*"
   ]
  },
  {
   "cell_type": "code",
   "execution_count": 1,
   "metadata": {},
   "outputs": [],
   "source": [
    "import pandas as pd\n",
    "import numpy as np\n",
    "import matplotlib.pyplot as plt\n",
    "%matplotlib inline"
   ]
  },
  {
   "cell_type": "code",
   "execution_count": 2,
   "metadata": {},
   "outputs": [
    {
     "data": {
      "text/html": [
       "<div>\n",
       "<style scoped>\n",
       "    .dataframe tbody tr th:only-of-type {\n",
       "        vertical-align: middle;\n",
       "    }\n",
       "\n",
       "    .dataframe tbody tr th {\n",
       "        vertical-align: top;\n",
       "    }\n",
       "\n",
       "    .dataframe thead th {\n",
       "        text-align: right;\n",
       "    }\n",
       "</style>\n",
       "<table border=\"1\" class=\"dataframe\">\n",
       "  <thead>\n",
       "    <tr style=\"text-align: right;\">\n",
       "      <th></th>\n",
       "      <th>i</th>\n",
       "      <th>K(i)</th>\n",
       "      <th>T(i,j),j=0,1,...,K(i)-1</th>\n",
       "    </tr>\n",
       "  </thead>\n",
       "  <tbody>\n",
       "    <tr>\n",
       "      <th>0</th>\n",
       "      <td>0</td>\n",
       "      <td>1.0</td>\n",
       "      <td>{0}</td>\n",
       "    </tr>\n",
       "    <tr>\n",
       "      <th>1</th>\n",
       "      <td>1</td>\n",
       "      <td>2.0</td>\n",
       "      <td>{0, 4}, {0, 6}</td>\n",
       "    </tr>\n",
       "    <tr>\n",
       "      <th>2</th>\n",
       "      <td>2</td>\n",
       "      <td>5.0</td>\n",
       "      <td>{0, 4, 6}, {0, 3, 4}, {0, 9, 4}, {0, 1, 6}, {0, 6, 7}</td>\n",
       "    </tr>\n",
       "    <tr>\n",
       "      <th>3</th>\n",
       "      <td>3</td>\n",
       "      <td>12.0</td>\n",
       "      <td>{0, 3, 4, 6}, {0, 9, 4, 6}, {0, 1, 4, 6}, {0, 4, 6, 7}, {0, 8, 3, 4}, {0, 9, 3, 4}, {0, 9, 2, 4}, {0, 9, 10, 4}, {0, 1, ...</td>\n",
       "    </tr>\n",
       "    <tr>\n",
       "      <th>4</th>\n",
       "      <td>4</td>\n",
       "      <td>26.0</td>\n",
       "      <td>{0, 8, 3, 4, 6}, {0, 9, 3, 4, 6}, {0, 1, 3, 4, 6}, {0, 3, 4, 6, 7}, {0, 9, 2, 4, 6}, {0, 9, 10, 4, 6}, {0, 9, 4, 6, 1}, ...</td>\n",
       "    </tr>\n",
       "    <tr>\n",
       "      <th>5</th>\n",
       "      <td>5</td>\n",
       "      <td>44.0</td>\n",
       "      <td>{0, 1, 3, 4, 6, 8}, {0, 3, 4, 6, 8, 9}, {0, 3, 4, 6, 7, 8}, {0, 2, 3, 4, 6, 9}, {0, 3, 4, 6, 9, 10}, {0, 1, 3, 4, 6, 9},...</td>\n",
       "    </tr>\n",
       "    <tr>\n",
       "      <th>6</th>\n",
       "      <td>6</td>\n",
       "      <td>68.0</td>\n",
       "      <td>{0, 1, 3, 4, 6, 8, 9}, {0, 1, 3, 4, 6, 7, 8}, {0, 3, 4, 6, 7, 8, 9}, {0, 2, 3, 4, 6, 8, 9}, {0, 3, 4, 6, 8, 9, 10}, {0, ...</td>\n",
       "    </tr>\n",
       "    <tr>\n",
       "      <th>7</th>\n",
       "      <td>7</td>\n",
       "      <td>76.0</td>\n",
       "      <td>{0, 1, 3, 4, 6, 7, 8, 9}, {0, 1, 2, 3, 4, 6, 8, 9}, {0, 1, 3, 4, 6, 8, 9, 10}, {0, 1, 2, 3, 4, 6, 7, 8}, {0, 1, 3, 4, 6,...</td>\n",
       "    </tr>\n",
       "    <tr>\n",
       "      <th>8</th>\n",
       "      <td>8</td>\n",
       "      <td>67.0</td>\n",
       "      <td>{0, 1, 2, 3, 4, 6, 7, 8, 9}, {0, 1, 3, 4, 6, 7, 8, 9, 11}, {0, 1, 3, 4, 6, 7, 8, 9, 10}, {0, 1, 2, 3, 4, 6, 8, 9, 10}, {...</td>\n",
       "    </tr>\n",
       "    <tr>\n",
       "      <th>9</th>\n",
       "      <td>9</td>\n",
       "      <td>41.0</td>\n",
       "      <td>{0, 1, 2, 3, 4, 6, 7, 8, 9, 11}, {0, 1, 2, 3, 4, 6, 7, 8, 9, 10}, {0, 1, 3, 4, 6, 7, 8, 9, 10, 11}, {0, 1, 3, 4, 5, 6, 7...</td>\n",
       "    </tr>\n",
       "    <tr>\n",
       "      <th>10</th>\n",
       "      <td>10</td>\n",
       "      <td>11.0</td>\n",
       "      <td>{0, 1, 2, 3, 4, 6, 7, 8, 9, 10, 11}, {0, 1, 2, 3, 4, 5, 6, 7, 8, 9, 11}, {0, 1, 2, 3, 4, 5, 6, 7, 8, 9, 10}, {0, 1, 3, 4...</td>\n",
       "    </tr>\n",
       "    <tr>\n",
       "      <th>11</th>\n",
       "      <td>11</td>\n",
       "      <td>1.0</td>\n",
       "      <td>{0, 1, 2, 3, 4, 5, 6, 7, 8, 9, 10, 11}</td>\n",
       "    </tr>\n",
       "  </tbody>\n",
       "</table>\n",
       "</div>"
      ],
      "text/plain": [
       "     i  K(i)  \\\n",
       "0    0   1.0   \n",
       "1    1   2.0   \n",
       "2    2   5.0   \n",
       "3    3  12.0   \n",
       "4    4  26.0   \n",
       "5    5  44.0   \n",
       "6    6  68.0   \n",
       "7    7  76.0   \n",
       "8    8  67.0   \n",
       "9    9  41.0   \n",
       "10  10  11.0   \n",
       "11  11   1.0   \n",
       "\n",
       "                                                                                                         T(i,j),j=0,1,...,K(i)-1  \n",
       "0                                                                                                                           {0}   \n",
       "1                                                                                                                {0, 4}, {0, 6}   \n",
       "2                                                                         {0, 4, 6}, {0, 3, 4}, {0, 9, 4}, {0, 1, 6}, {0, 6, 7}   \n",
       "3    {0, 3, 4, 6}, {0, 9, 4, 6}, {0, 1, 4, 6}, {0, 4, 6, 7}, {0, 8, 3, 4}, {0, 9, 3, 4}, {0, 9, 2, 4}, {0, 9, 10, 4}, {0, 1, ...  \n",
       "4    {0, 8, 3, 4, 6}, {0, 9, 3, 4, 6}, {0, 1, 3, 4, 6}, {0, 3, 4, 6, 7}, {0, 9, 2, 4, 6}, {0, 9, 10, 4, 6}, {0, 9, 4, 6, 1}, ...  \n",
       "5    {0, 1, 3, 4, 6, 8}, {0, 3, 4, 6, 8, 9}, {0, 3, 4, 6, 7, 8}, {0, 2, 3, 4, 6, 9}, {0, 3, 4, 6, 9, 10}, {0, 1, 3, 4, 6, 9},...  \n",
       "6    {0, 1, 3, 4, 6, 8, 9}, {0, 1, 3, 4, 6, 7, 8}, {0, 3, 4, 6, 7, 8, 9}, {0, 2, 3, 4, 6, 8, 9}, {0, 3, 4, 6, 8, 9, 10}, {0, ...  \n",
       "7    {0, 1, 3, 4, 6, 7, 8, 9}, {0, 1, 2, 3, 4, 6, 8, 9}, {0, 1, 3, 4, 6, 8, 9, 10}, {0, 1, 2, 3, 4, 6, 7, 8}, {0, 1, 3, 4, 6,...  \n",
       "8    {0, 1, 2, 3, 4, 6, 7, 8, 9}, {0, 1, 3, 4, 6, 7, 8, 9, 11}, {0, 1, 3, 4, 6, 7, 8, 9, 10}, {0, 1, 2, 3, 4, 6, 8, 9, 10}, {...  \n",
       "9    {0, 1, 2, 3, 4, 6, 7, 8, 9, 11}, {0, 1, 2, 3, 4, 6, 7, 8, 9, 10}, {0, 1, 3, 4, 6, 7, 8, 9, 10, 11}, {0, 1, 3, 4, 5, 6, 7...  \n",
       "10   {0, 1, 2, 3, 4, 6, 7, 8, 9, 10, 11}, {0, 1, 2, 3, 4, 5, 6, 7, 8, 9, 11}, {0, 1, 2, 3, 4, 5, 6, 7, 8, 9, 10}, {0, 1, 3, 4...  \n",
       "11                                                                                       {0, 1, 2, 3, 4, 5, 6, 7, 8, 9, 10, 11}   "
      ]
     },
     "execution_count": 2,
     "metadata": {},
     "output_type": "execute_result"
    }
   ],
   "source": [
    "Tree=pd.read_csv('TREE.csv')\n",
    "pd.set_option('max_colwidth', 125)\n",
    "Tree"
   ]
  },
  {
   "cell_type": "markdown",
   "metadata": {},
   "source": [
    " "
   ]
  },
  {
   "cell_type": "markdown",
   "metadata": {},
   "source": [
    "Each path traced out by the knight on the keypad can be characterized by a triple index $(i,j,k)$ where<br>\n",
    "> $i=$ the number of buttons or vertices covered by the path,<br>\n",
    "$j=$ the tree $T(i,j)$ specifying all the distinct buttons or the vertex set of the path,<br>\n",
    "$k=$ the last button or the end vertex of the path and $\\{ k \\} \\in T(i,j)$."
   ]
  },
  {
   "cell_type": "markdown",
   "metadata": {},
   "source": [
    "We use $(i,j,k)_n$ to mean $(T(i,j),k)_n$ where $n$ is the number of steps the path has taken."
   ]
  },
  {
   "cell_type": "markdown",
   "metadata": {},
   "source": [
    "$$\\begin{matrix}\n",
    "\\text{path}(0,4,0,6,0,4)_5\\quad \\Longleftrightarrow \\quad (2,0,4)_5 \\\\\n",
    "\\text{{path}}=\\{ 0,4,6 \\}=T(2,0)\\quad \\text{end vertex}=4\\\\\n",
    "\\end{matrix}$$ \n"
   ]
  },
  {
   "cell_type": "markdown",
   "metadata": {},
   "source": [
    "At each step $n$, the path $(T(i,j),k)_n$ is either:<br>\n",
    "1. backtracking to another vertex in $T(i,j)\\quad\\Longrightarrow\\quad (T(i,j),k_\\alpha)_{n+1} $\n",
    "2. moving to a vertex not in $T(i,j)$ and increasing the vertex set by one\n",
    "$\\quad\\Longrightarrow\\quad (T(i+1,j_\\beta),k_\\alpha)_{n+1} $<br>\n",
    "where $(k,k_\\alpha)\\in$ edge of $G$."
   ]
  },
  {
   "cell_type": "markdown",
   "metadata": {},
   "source": [
    "![title](img\\GX2.png)"
   ]
  },
  {
   "cell_type": "markdown",
   "metadata": {},
   "source": [
    "Reversing the process, each path $(T(i,j),k)_n$ is the result from:\n",
    "1. the same tree vertex set $T(i,j) \\quad\\Longleftarrow\\quad (T(i,j),k_\\alpha)_{n-1}$\n",
    "2. the next smaller vertex set $T(i-1,j_\\beta)\\quad\\Longleftarrow\\quad (T(i-1,j_\\beta),k_\\alpha)_{n-1}$<br>\n",
    "where $(k,k_\\alpha)\\in$ edge of $G\\quad$ and $\\quad T(i-1,j_\\beta)\\cup\\{ k \\}=T(i,j)$."
   ]
  },
  {
   "cell_type": "markdown",
   "metadata": {},
   "source": [
    "![title](img\\GX3.png)"
   ]
  },
  {
   "cell_type": "markdown",
   "metadata": {},
   "source": [
    "We define <br>\n",
    "> $c(i,j,k)_n$ the total number of $(T(i,j),k)_n$ paths at $n$ steps,<br><br>\n",
    "$A(i,j)_n=\\sum\\limits_{k=0}^{N-1} c(i,j,k)_n$ the total number of $(T(i,j))_n$ paths,<br><br>\n",
    "$B(i)_n=\\sum\\limits_{j=0}^{K(i)-1} A(i,j)_n$ the total number of paths with $(i+1)$ vertices,<br><br>\n",
    "$Sum_n=\\sum\\limits_{1=0}^{N-1} B(i)_n$ the total number of all possible paths,<br><br>\n",
    "$p(i)_n=\\frac{B(i)_n}{Sum_n}$ the probability that the path has covered exactly $(i+1)$ vertices.\n"
   ]
  },
  {
   "cell_type": "markdown",
   "metadata": {},
   "source": [
    "Given $c(i,j,k)_{n-1}$ we can calculate $c(i,j,k)_{n}$at the next step by applying the $n$ from $n-1$ procedure described above. The entire procedure can be visualized as a neural-network algorithm where the calculation at any level is only influenced by those at the same level or the level directly below it."
   ]
  },
  {
   "cell_type": "markdown",
   "metadata": {},
   "source": [
    "![title](img\\GX4.png)"
   ]
  },
  {
   "cell_type": "markdown",
   "metadata": {},
   "source": [
    "The codes for finding the probabilities $p(i)$ are given in the subroutine GROW_1 in **4. Programming codes.** It is run with Nstep = 50.  The results are stored in GROW_1.csv.  Below are the tabulated results for the first 11 steps, confirming our result in **3.1** where all 12 vertices are first covered after 11 steps and the probability that was calculated earlier. "
   ]
  },
  {
   "cell_type": "code",
   "execution_count": 3,
   "metadata": {},
   "outputs": [
    {
     "data": {
      "text/html": [
       "<div>\n",
       "<style scoped>\n",
       "    .dataframe tbody tr th:only-of-type {\n",
       "        vertical-align: middle;\n",
       "    }\n",
       "\n",
       "    .dataframe tbody tr th {\n",
       "        vertical-align: top;\n",
       "    }\n",
       "\n",
       "    .dataframe thead th {\n",
       "        text-align: right;\n",
       "    }\n",
       "</style>\n",
       "<table border=\"1\" class=\"dataframe\">\n",
       "  <thead>\n",
       "    <tr style=\"text-align: right;\">\n",
       "      <th></th>\n",
       "      <th>n</th>\n",
       "      <th>p0</th>\n",
       "      <th>p1</th>\n",
       "      <th>p2</th>\n",
       "      <th>p3</th>\n",
       "      <th>p4</th>\n",
       "      <th>p5</th>\n",
       "      <th>p6</th>\n",
       "      <th>p7</th>\n",
       "      <th>p8</th>\n",
       "      <th>p9</th>\n",
       "      <th>p10</th>\n",
       "      <th>p11</th>\n",
       "      <th># paths</th>\n",
       "    </tr>\n",
       "  </thead>\n",
       "  <tbody>\n",
       "    <tr>\n",
       "      <th>0</th>\n",
       "      <td>0</td>\n",
       "      <td>1.0</td>\n",
       "      <td>0.000000</td>\n",
       "      <td>0.000000</td>\n",
       "      <td>0.000000</td>\n",
       "      <td>0.000000</td>\n",
       "      <td>0.000000</td>\n",
       "      <td>0.000000</td>\n",
       "      <td>0.000000</td>\n",
       "      <td>0.000000</td>\n",
       "      <td>0.000000</td>\n",
       "      <td>0.000000</td>\n",
       "      <td>0.000000</td>\n",
       "      <td>1.0</td>\n",
       "    </tr>\n",
       "    <tr>\n",
       "      <th>1</th>\n",
       "      <td>1</td>\n",
       "      <td>0.0</td>\n",
       "      <td>1.000000</td>\n",
       "      <td>0.000000</td>\n",
       "      <td>0.000000</td>\n",
       "      <td>0.000000</td>\n",
       "      <td>0.000000</td>\n",
       "      <td>0.000000</td>\n",
       "      <td>0.000000</td>\n",
       "      <td>0.000000</td>\n",
       "      <td>0.000000</td>\n",
       "      <td>0.000000</td>\n",
       "      <td>0.000000</td>\n",
       "      <td>2.0</td>\n",
       "    </tr>\n",
       "    <tr>\n",
       "      <th>2</th>\n",
       "      <td>2</td>\n",
       "      <td>0.0</td>\n",
       "      <td>0.333333</td>\n",
       "      <td>0.666667</td>\n",
       "      <td>0.000000</td>\n",
       "      <td>0.000000</td>\n",
       "      <td>0.000000</td>\n",
       "      <td>0.000000</td>\n",
       "      <td>0.000000</td>\n",
       "      <td>0.000000</td>\n",
       "      <td>0.000000</td>\n",
       "      <td>0.000000</td>\n",
       "      <td>0.000000</td>\n",
       "      <td>6.0</td>\n",
       "    </tr>\n",
       "    <tr>\n",
       "      <th>3</th>\n",
       "      <td>3</td>\n",
       "      <td>0.0</td>\n",
       "      <td>0.142857</td>\n",
       "      <td>0.428571</td>\n",
       "      <td>0.428571</td>\n",
       "      <td>0.000000</td>\n",
       "      <td>0.000000</td>\n",
       "      <td>0.000000</td>\n",
       "      <td>0.000000</td>\n",
       "      <td>0.000000</td>\n",
       "      <td>0.000000</td>\n",
       "      <td>0.000000</td>\n",
       "      <td>0.000000</td>\n",
       "      <td>14.0</td>\n",
       "    </tr>\n",
       "    <tr>\n",
       "      <th>4</th>\n",
       "      <td>4</td>\n",
       "      <td>0.0</td>\n",
       "      <td>0.055556</td>\n",
       "      <td>0.388889</td>\n",
       "      <td>0.388889</td>\n",
       "      <td>0.166667</td>\n",
       "      <td>0.000000</td>\n",
       "      <td>0.000000</td>\n",
       "      <td>0.000000</td>\n",
       "      <td>0.000000</td>\n",
       "      <td>0.000000</td>\n",
       "      <td>0.000000</td>\n",
       "      <td>0.000000</td>\n",
       "      <td>36.0</td>\n",
       "    </tr>\n",
       "    <tr>\n",
       "      <th>5</th>\n",
       "      <td>5</td>\n",
       "      <td>0.0</td>\n",
       "      <td>0.023256</td>\n",
       "      <td>0.209302</td>\n",
       "      <td>0.418605</td>\n",
       "      <td>0.255814</td>\n",
       "      <td>0.093023</td>\n",
       "      <td>0.000000</td>\n",
       "      <td>0.000000</td>\n",
       "      <td>0.000000</td>\n",
       "      <td>0.000000</td>\n",
       "      <td>0.000000</td>\n",
       "      <td>0.000000</td>\n",
       "      <td>86.0</td>\n",
       "    </tr>\n",
       "    <tr>\n",
       "      <th>6</th>\n",
       "      <td>6</td>\n",
       "      <td>0.0</td>\n",
       "      <td>0.009346</td>\n",
       "      <td>0.158879</td>\n",
       "      <td>0.364486</td>\n",
       "      <td>0.299065</td>\n",
       "      <td>0.130841</td>\n",
       "      <td>0.037383</td>\n",
       "      <td>0.000000</td>\n",
       "      <td>0.000000</td>\n",
       "      <td>0.000000</td>\n",
       "      <td>0.000000</td>\n",
       "      <td>0.000000</td>\n",
       "      <td>214.0</td>\n",
       "    </tr>\n",
       "    <tr>\n",
       "      <th>7</th>\n",
       "      <td>7</td>\n",
       "      <td>0.0</td>\n",
       "      <td>0.003876</td>\n",
       "      <td>0.081395</td>\n",
       "      <td>0.282946</td>\n",
       "      <td>0.329457</td>\n",
       "      <td>0.220930</td>\n",
       "      <td>0.058140</td>\n",
       "      <td>0.023256</td>\n",
       "      <td>0.000000</td>\n",
       "      <td>0.000000</td>\n",
       "      <td>0.000000</td>\n",
       "      <td>0.000000</td>\n",
       "      <td>516.0</td>\n",
       "    </tr>\n",
       "    <tr>\n",
       "      <th>8</th>\n",
       "      <td>8</td>\n",
       "      <td>0.0</td>\n",
       "      <td>0.001575</td>\n",
       "      <td>0.058268</td>\n",
       "      <td>0.239370</td>\n",
       "      <td>0.313386</td>\n",
       "      <td>0.242520</td>\n",
       "      <td>0.107087</td>\n",
       "      <td>0.031496</td>\n",
       "      <td>0.006299</td>\n",
       "      <td>0.000000</td>\n",
       "      <td>0.000000</td>\n",
       "      <td>0.000000</td>\n",
       "      <td>1270.0</td>\n",
       "    </tr>\n",
       "    <tr>\n",
       "      <th>9</th>\n",
       "      <td>9</td>\n",
       "      <td>0.0</td>\n",
       "      <td>0.000650</td>\n",
       "      <td>0.029240</td>\n",
       "      <td>0.163093</td>\n",
       "      <td>0.292398</td>\n",
       "      <td>0.289799</td>\n",
       "      <td>0.141650</td>\n",
       "      <td>0.066927</td>\n",
       "      <td>0.014295</td>\n",
       "      <td>0.001949</td>\n",
       "      <td>0.000000</td>\n",
       "      <td>0.000000</td>\n",
       "      <td>3078.0</td>\n",
       "    </tr>\n",
       "    <tr>\n",
       "      <th>10</th>\n",
       "      <td>10</td>\n",
       "      <td>0.0</td>\n",
       "      <td>0.000265</td>\n",
       "      <td>0.020424</td>\n",
       "      <td>0.136074</td>\n",
       "      <td>0.259682</td>\n",
       "      <td>0.288859</td>\n",
       "      <td>0.181432</td>\n",
       "      <td>0.081698</td>\n",
       "      <td>0.027851</td>\n",
       "      <td>0.002918</td>\n",
       "      <td>0.000796</td>\n",
       "      <td>0.000000</td>\n",
       "      <td>7540.0</td>\n",
       "    </tr>\n",
       "    <tr>\n",
       "      <th>11</th>\n",
       "      <td>11</td>\n",
       "      <td>0.0</td>\n",
       "      <td>0.000109</td>\n",
       "      <td>0.010150</td>\n",
       "      <td>0.086435</td>\n",
       "      <td>0.220124</td>\n",
       "      <td>0.296846</td>\n",
       "      <td>0.209866</td>\n",
       "      <td>0.122122</td>\n",
       "      <td>0.044090</td>\n",
       "      <td>0.008840</td>\n",
       "      <td>0.001200</td>\n",
       "      <td>0.000218</td>\n",
       "      <td>18326.0</td>\n",
       "    </tr>\n",
       "  </tbody>\n",
       "</table>\n",
       "</div>"
      ],
      "text/plain": [
       "     n   p0        p1        p2        p3        p4        p5        p6  \\\n",
       "0    0  1.0  0.000000  0.000000  0.000000  0.000000  0.000000  0.000000   \n",
       "1    1  0.0  1.000000  0.000000  0.000000  0.000000  0.000000  0.000000   \n",
       "2    2  0.0  0.333333  0.666667  0.000000  0.000000  0.000000  0.000000   \n",
       "3    3  0.0  0.142857  0.428571  0.428571  0.000000  0.000000  0.000000   \n",
       "4    4  0.0  0.055556  0.388889  0.388889  0.166667  0.000000  0.000000   \n",
       "5    5  0.0  0.023256  0.209302  0.418605  0.255814  0.093023  0.000000   \n",
       "6    6  0.0  0.009346  0.158879  0.364486  0.299065  0.130841  0.037383   \n",
       "7    7  0.0  0.003876  0.081395  0.282946  0.329457  0.220930  0.058140   \n",
       "8    8  0.0  0.001575  0.058268  0.239370  0.313386  0.242520  0.107087   \n",
       "9    9  0.0  0.000650  0.029240  0.163093  0.292398  0.289799  0.141650   \n",
       "10  10  0.0  0.000265  0.020424  0.136074  0.259682  0.288859  0.181432   \n",
       "11  11  0.0  0.000109  0.010150  0.086435  0.220124  0.296846  0.209866   \n",
       "\n",
       "          p7        p8        p9       p10       p11  # paths  \n",
       "0   0.000000  0.000000  0.000000  0.000000  0.000000      1.0  \n",
       "1   0.000000  0.000000  0.000000  0.000000  0.000000      2.0  \n",
       "2   0.000000  0.000000  0.000000  0.000000  0.000000      6.0  \n",
       "3   0.000000  0.000000  0.000000  0.000000  0.000000     14.0  \n",
       "4   0.000000  0.000000  0.000000  0.000000  0.000000     36.0  \n",
       "5   0.000000  0.000000  0.000000  0.000000  0.000000     86.0  \n",
       "6   0.000000  0.000000  0.000000  0.000000  0.000000    214.0  \n",
       "7   0.023256  0.000000  0.000000  0.000000  0.000000    516.0  \n",
       "8   0.031496  0.006299  0.000000  0.000000  0.000000   1270.0  \n",
       "9   0.066927  0.014295  0.001949  0.000000  0.000000   3078.0  \n",
       "10  0.081698  0.027851  0.002918  0.000796  0.000000   7540.0  \n",
       "11  0.122122  0.044090  0.008840  0.001200  0.000218  18326.0  "
      ]
     },
     "execution_count": 3,
     "metadata": {},
     "output_type": "execute_result"
    }
   ],
   "source": [
    "Grow=pd.read_csv('GROW_1.csv')\n",
    "Grow.head(12)"
   ]
  },
  {
   "cell_type": "markdown",
   "metadata": {},
   "source": [
    "Plotting the probability results for paths starting at **0** reaching 50 steps:"
   ]
  },
  {
   "cell_type": "code",
   "execution_count": 30,
   "metadata": {},
   "outputs": [
    {
     "data": {
      "text/plain": [
       "<matplotlib.text.Text at 0x1b18ab70>"
      ]
     },
     "execution_count": 30,
     "metadata": {},
     "output_type": "execute_result"
    },
    {
     "data": {
      "image/png": "[encoded data removed]",
      "text/plain": [
       "<matplotlib.figure.Figure at 0x1ce6f0b8>"
      ]
     },
     "metadata": {},
     "output_type": "display_data"
    }
   ],
   "source": [
    "Grow[['p0','p1','p2','p3','p4','p5','p6','p7','p8','p9','p10','p11']\n",
    "    ].plot.bar(figsize=(16,6),stacked=True,ylim=(0,1),width=0.75).set_xlim([-1,55])\n",
    "plt.title('p.i probabilities of covering (i+1) vertices starting from vertex 0')\n",
    "plt.xlabel('Steps')\n",
    "plt.ylabel('Probability')\n"
   ]
  },
  {
   "cell_type": "markdown",
   "metadata": {},
   "source": [
    "As $n \\to\\infty$ , the number of steps gets very large,  $p(i) \\to 0$ for $i=0,1,...,10$  and $p(11) \\to 1.0$.  This is expected since if the knight is moving randomly over the keypad over an infinite amount of time, it will eventually cover all the buttons on the keypad. "
   ]
  },
  {
   "cell_type": "markdown",
   "metadata": {},
   "source": [
    "To calculate the probability that the knight has covered at least half the buttons on the keypad at $n$ steps, we add the probabilities for $p(5), p(6), ..., p(11)$. The comparison between covering all and half the keypad buttons are shown below."
   ]
  },
  {
   "cell_type": "code",
   "execution_count": 31,
   "metadata": {},
   "outputs": [
    {
     "data": {
      "text/plain": [
       "<matplotlib.text.Text at 0x20007438>"
      ]
     },
     "execution_count": 31,
     "metadata": {},
     "output_type": "execute_result"
    },
    {
     "data": {
      "image/png": "[encoded data removed]",
      "text/plain": [
       "<matplotlib.figure.Figure at 0x1fae6908>"
      ]
     },
     "metadata": {},
     "output_type": "display_data"
    }
   ],
   "source": [
    "Grow['All']=Grow['p11']\n",
    "Grow['Half']=Grow['p5']+Grow['p6']+Grow['p7']+Grow['p8']+Grow['p9']+Grow['p10']+Grow['p11']\n",
    "Grow[['Half','All']].plot.bar(figsize=(16,6),color=['blue','red'],ylim=(0,1),width=1).set_xlim([-1,55])\n",
    "plt.title('Probabilities of covering Half and All vertices starting from vertex 0')\n",
    "plt.xlabel('Steps')\n",
    "plt.ylabel('Probability')\n"
   ]
  },
  {
   "cell_type": "markdown",
   "metadata": {},
   "source": [
    "We see that after about 25 steps, the knight would have covered at least half the buttons on the keypad. This can also be seen in the first plot, but it is more obvious in the second plot."
   ]
  },
  {
   "cell_type": "markdown",
   "metadata": {},
   "source": [
    " "
   ]
  },
  {
   "cell_type": "markdown",
   "metadata": {},
   "source": [
    "### Conclusions"
   ]
  },
  {
   "cell_type": "markdown",
   "metadata": {},
   "source": [
    "We represent the movement of the knight on the keypad as random walks in the associated graph $G$ where moving from one vertex to its adjacent vertices is equally likely.  From this we construct a set of trees $T(i,j)$ which gives all possible vertex-covering for paths originating from some root vertex.  We then specify a neural-network algorithm on $c(i,j,k)$, the number of paths associated with $T(i,j)$ with end vertex $k$, to find $p(i)$, the probability the path has traversed $i+1$ vertices after a fixed number of steps."
   ]
  },
  {
   "cell_type": "markdown",
   "metadata": {},
   "source": [
    "The method can be modified to find the probability the knight has visited only the digit buttons or any other subset of the buttons on the keypad.  It can also be used to find the probability of landing on a particular button a fixed number of times."
   ]
  },
  {
   "cell_type": "markdown",
   "metadata": {},
   "source": [
    "We can apply the same technique for when two knights are placed on the keypad. *I have ran a program involving the use of 2 knights but have not included it becuase it is only a slight modiication of the program for one knight and the results are not that interesting.*"
   ]
  },
  {
   "cell_type": "markdown",
   "metadata": {},
   "source": [
    "Applications can include:\n",
    "1. For a network of people in regular contact, what is the probability that a certain portion fo the network would know of an event if the announcement originates from an individual or several people in the network?\n",
    "2. Find the optimal initial condition so that the probability of covering the entire or specific portion of the network is maximized.\n",
    "3. Construction of a network meeting specific requirement when each node in the network can have only so many connection.  How to maximize the efficiency of the network while minimizing the number of node connections?"
   ]
  },
  {
   "cell_type": "code",
   "execution_count": null,
   "metadata": {},
   "outputs": [],
   "source": []
  },
  {
   "cell_type": "code",
   "execution_count": null,
   "metadata": {},
   "outputs": [],
   "source": []
  }
 ],
 "metadata": {
  "kernelspec": {
   "display_name": "Python 2",
   "language": "python",
   "name": "python2"
  },
  "language_info": {
   "codemirror_mode": {
    "name": "ipython",
    "version": 2
   },
   "file_extension": ".py",
   "mimetype": "text/x-python",
   "name": "python",
   "nbconvert_exporter": "python",
   "pygments_lexer": "ipython2",
   "version": "2.7.15"
  }
 },
 "nbformat": 4,
 "nbformat_minor": 2
}
