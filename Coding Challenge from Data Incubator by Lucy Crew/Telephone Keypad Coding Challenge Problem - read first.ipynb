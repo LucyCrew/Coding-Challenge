{
 "cells": [
  {
   "cell_type": "markdown",
   "metadata": {},
   "source": [
    "# Telephone Keypad Coding Challenge Problem from Data Incubator\n"
   ]
  },
  {
   "cell_type": "markdown",
   "metadata": {},
   "source": [
    "The following is a sample coding challenge problem posted by Data Incubator to prepare appplicants applying to their fellowship program.  I have answered the main question, then extended the problem to answered other questions that are also relevant to the problem."
   ]
  },
  {
   "cell_type": "markdown",
   "metadata": {},
   "source": [
    "> **Question:** Given a standard telephone keypad with a knight chesspiece placed on the '0' button. If the piece can move in the usual 'T' pattern as it does on a chessboard, what is the expected button the piece will land on after 10 moves?"
   ]
  },
  {
   "cell_type": "markdown",
   "metadata": {},
   "source": [
    "![title](img/FX3.jpg)"
   ]
  },
  {
   "cell_type": "markdown",
   "metadata": {},
   "source": [
    "## Additional questions:"
   ]
  },
  {
   "cell_type": "markdown",
   "metadata": {},
   "source": [
    "> **1. Landing on which button. ** What happens after 10 moves or any arbitrary number of moves? What if the knight piece is starting from another button? What if two knight pieces are used? The solution is contained in the corresponding notebook ."
   ]
  },
  {
   "cell_type": "markdown",
   "metadata": {},
   "source": [
    "> **2. The number of steps gets very large.** What happens when $N$, the number of moves, increases to a very large value? ."
   ]
  },
  {
   "cell_type": "markdown",
   "metadata": {},
   "source": [
    "> **3. Landing on all the buttons.** How many moves are needed to cover all the digit buttons? What is the probability that the knight will cover half or all of the buttons on the keypad after n moves? What if two knight pieces are used? We will examine this in two parts: **3.1** when the knight cannot go back to a previous button, and **3.2** when backtracking is allowed."
   ]
  },
  {
   "cell_type": "markdown",
   "metadata": {},
   "source": [
    "> **4. Programming codes.** This contains the codes for getting the results in **3.**"
   ]
  },
  {
   "cell_type": "code",
   "execution_count": null,
   "metadata": {},
   "outputs": [],
   "source": []
  },
  {
   "cell_type": "code",
   "execution_count": null,
   "metadata": {},
   "outputs": [],
   "source": []
  }
 ],
 "metadata": {
  "kernelspec": {
   "display_name": "Python 2",
   "language": "python",
   "name": "python2"
  },
  "language_info": {
   "codemirror_mode": {
    "name": "ipython",
    "version": 2
   },
   "file_extension": ".py",
   "mimetype": "text/x-python",
   "name": "python",
   "nbconvert_exporter": "python",
   "pygments_lexer": "ipython2",
   "version": "2.7.15"
  }
 },
 "nbformat": 4,
 "nbformat_minor": 2
}
