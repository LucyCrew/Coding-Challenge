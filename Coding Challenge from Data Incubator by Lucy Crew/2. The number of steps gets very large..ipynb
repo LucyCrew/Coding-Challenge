{
 "cells": [
  {
   "cell_type": "markdown",
   "metadata": {},
   "source": [
    "## 2. The number of steps gets very large."
   ]
  },
  {
   "cell_type": "markdown",
   "metadata": {},
   "source": [
    "From the results of the previous section, the probabilities for paths starting at **0** and ending at **k** where **k={0,1,2,...,9,*,#}** is converging to a fixed value as N increases, if the alternating zero values are ignored. The same converging pattern also occurs for the other starting vertex values shown in section 1.<br>\n",
    "We reexamine the pattern for starting vertex **0**, extending the number of steps and separating the results into the two groups **V1={0,1,3,5,7,9}** and **V2={2,4,6,8,*,#}**."
   ]
  },
  {
   "cell_type": "markdown",
   "metadata": {},
   "source": [
    "![title](img/FX2.jpg)"
   ]
  },
  {
   "cell_type": "markdown",
   "metadata": {},
   "source": [
    "We expect this probability pattern convergence to hold for all connected graphs $G$ since if $(v_0,v_1,v_2,...,v_N)$ is a path in $G$ and the number of steps $n$ is large enough then the probability of ending on any vertex $v \\in V(G)$ is the same regardless of the choice of starting vertex $v_0$.   "
   ]
  },
  {
   "cell_type": "code",
   "execution_count": 1,
   "metadata": {},
   "outputs": [
    {
     "name": "stdout",
     "output_type": "stream",
     "text": [
      "Adjacency defined.\n"
     ]
    }
   ],
   "source": [
    "adj=[[]]*12\n",
    "adj[0]=[4,6]\n",
    "adj[1]=[6,8]\n",
    "adj[2]=[7,9]\n",
    "adj[3]=[4,8]\n",
    "adj[4]=[0,3,9]\n",
    "adj[5]=[10,11]\n",
    "adj[6]=[0,1,7]\n",
    "adj[7]=[2,6,11]\n",
    "adj[8]=[1,3]\n",
    "adj[9]=[2,4,10]\n",
    "adj[10]=[5,9]\n",
    "adj[11]=[5,7]\n",
    "print('Adjacency defined.')\n",
    "\n",
    "import numpy as np\n",
    "NV=12\n",
    "M=np.zeros((NV,NV))\n",
    "for i in range (NV):\n",
    "    for a in adj[i]:\n",
    "        M[i,int(a)]=1.\n"
   ]
  },
  {
   "cell_type": "code",
   "execution_count": 2,
   "metadata": {},
   "outputs": [
    {
     "name": "stdout",
     "output_type": "stream",
     "text": [
      "Probabilities calculated after N=30\n"
     ]
    }
   ],
   "source": [
    "Nstep=31\n",
    "A=np.eye(12)        # A^0=I\n",
    "v=np.zeros((NV,1))\n",
    "v[0,0]=1.           # v=(1,0,...,0)^T\n",
    "\n",
    "B=np.zeros((Nstep,12)) # stores the probability after each step \n",
    "Q=np.zeros(Nstep)      # stores the total number of possible paths after each step\n",
    "for i in range(Nstep):\n",
    "    Q[i]=sum(np.dot(A,v))\n",
    "    B[i]=np.dot(A,v).T/Q[i]\n",
    "    A=np.dot(A,M)\n",
    "print('Probabilities calculated after N=' + str(Nstep-1))\n"
   ]
  },
  {
   "cell_type": "code",
   "execution_count": 3,
   "metadata": {},
   "outputs": [],
   "source": [
    "import pandas as pd\n",
    "DF0=pd.DataFrame(B,columns='0 1 2 3 4 5 6 7 8 9 * #'.split())"
   ]
  },
  {
   "cell_type": "code",
   "execution_count": 4,
   "metadata": {},
   "outputs": [
    {
     "name": "stdout",
     "output_type": "stream",
     "text": [
      "The probabilities of starting from '0' after an even-number steps.\n"
     ]
    },
    {
     "data": {
      "text/html": [
       "<div>\n",
       "<style scoped>\n",
       "    .dataframe tbody tr th:only-of-type {\n",
       "        vertical-align: middle;\n",
       "    }\n",
       "\n",
       "    .dataframe tbody tr th {\n",
       "        vertical-align: top;\n",
       "    }\n",
       "\n",
       "    .dataframe thead th {\n",
       "        text-align: right;\n",
       "    }\n",
       "</style>\n",
       "<table border=\"1\" class=\"dataframe\">\n",
       "  <thead>\n",
       "    <tr style=\"text-align: right;\">\n",
       "      <th></th>\n",
       "      <th>0</th>\n",
       "      <th>1</th>\n",
       "      <th>3</th>\n",
       "      <th>5</th>\n",
       "      <th>7</th>\n",
       "      <th>9</th>\n",
       "    </tr>\n",
       "  </thead>\n",
       "  <tbody>\n",
       "    <tr>\n",
       "      <th>0</th>\n",
       "      <td>1.000000</td>\n",
       "      <td>0.000000</td>\n",
       "      <td>0.000000</td>\n",
       "      <td>0.000000</td>\n",
       "      <td>0.000000</td>\n",
       "      <td>0.000000</td>\n",
       "    </tr>\n",
       "    <tr>\n",
       "      <th>2</th>\n",
       "      <td>0.333333</td>\n",
       "      <td>0.166667</td>\n",
       "      <td>0.166667</td>\n",
       "      <td>0.000000</td>\n",
       "      <td>0.166667</td>\n",
       "      <td>0.166667</td>\n",
       "    </tr>\n",
       "    <tr>\n",
       "      <th>4</th>\n",
       "      <td>0.222222</td>\n",
       "      <td>0.166667</td>\n",
       "      <td>0.166667</td>\n",
       "      <td>0.055556</td>\n",
       "      <td>0.194444</td>\n",
       "      <td>0.194444</td>\n",
       "    </tr>\n",
       "    <tr>\n",
       "      <th>6</th>\n",
       "      <td>0.196262</td>\n",
       "      <td>0.154206</td>\n",
       "      <td>0.154206</td>\n",
       "      <td>0.084112</td>\n",
       "      <td>0.205607</td>\n",
       "      <td>0.205607</td>\n",
       "    </tr>\n",
       "    <tr>\n",
       "      <th>8</th>\n",
       "      <td>0.187402</td>\n",
       "      <td>0.145669</td>\n",
       "      <td>0.145669</td>\n",
       "      <td>0.097638</td>\n",
       "      <td>0.211811</td>\n",
       "      <td>0.211811</td>\n",
       "    </tr>\n",
       "    <tr>\n",
       "      <th>10</th>\n",
       "      <td>0.183554</td>\n",
       "      <td>0.140849</td>\n",
       "      <td>0.140849</td>\n",
       "      <td>0.104244</td>\n",
       "      <td>0.215252</td>\n",
       "      <td>0.215252</td>\n",
       "    </tr>\n",
       "    <tr>\n",
       "      <th>12</th>\n",
       "      <td>0.181692</td>\n",
       "      <td>0.138267</td>\n",
       "      <td>0.138267</td>\n",
       "      <td>0.107569</td>\n",
       "      <td>0.217102</td>\n",
       "      <td>0.217102</td>\n",
       "    </tr>\n",
       "    <tr>\n",
       "      <th>14</th>\n",
       "      <td>0.180752</td>\n",
       "      <td>0.136911</td>\n",
       "      <td>0.136911</td>\n",
       "      <td>0.109270</td>\n",
       "      <td>0.218078</td>\n",
       "      <td>0.218078</td>\n",
       "    </tr>\n",
       "    <tr>\n",
       "      <th>16</th>\n",
       "      <td>0.180269</td>\n",
       "      <td>0.136203</td>\n",
       "      <td>0.136203</td>\n",
       "      <td>0.110148</td>\n",
       "      <td>0.218589</td>\n",
       "      <td>0.218589</td>\n",
       "    </tr>\n",
       "    <tr>\n",
       "      <th>18</th>\n",
       "      <td>0.180019</td>\n",
       "      <td>0.135835</td>\n",
       "      <td>0.135835</td>\n",
       "      <td>0.110602</td>\n",
       "      <td>0.218854</td>\n",
       "      <td>0.218854</td>\n",
       "    </tr>\n",
       "    <tr>\n",
       "      <th>20</th>\n",
       "      <td>0.179890</td>\n",
       "      <td>0.135643</td>\n",
       "      <td>0.135643</td>\n",
       "      <td>0.110838</td>\n",
       "      <td>0.218992</td>\n",
       "      <td>0.218992</td>\n",
       "    </tr>\n",
       "    <tr>\n",
       "      <th>22</th>\n",
       "      <td>0.179823</td>\n",
       "      <td>0.135544</td>\n",
       "      <td>0.135544</td>\n",
       "      <td>0.110960</td>\n",
       "      <td>0.219064</td>\n",
       "      <td>0.219064</td>\n",
       "    </tr>\n",
       "    <tr>\n",
       "      <th>24</th>\n",
       "      <td>0.179788</td>\n",
       "      <td>0.135493</td>\n",
       "      <td>0.135493</td>\n",
       "      <td>0.111024</td>\n",
       "      <td>0.219101</td>\n",
       "      <td>0.219101</td>\n",
       "    </tr>\n",
       "    <tr>\n",
       "      <th>26</th>\n",
       "      <td>0.179770</td>\n",
       "      <td>0.135466</td>\n",
       "      <td>0.135466</td>\n",
       "      <td>0.111057</td>\n",
       "      <td>0.219121</td>\n",
       "      <td>0.219121</td>\n",
       "    </tr>\n",
       "    <tr>\n",
       "      <th>28</th>\n",
       "      <td>0.179761</td>\n",
       "      <td>0.135452</td>\n",
       "      <td>0.135452</td>\n",
       "      <td>0.111074</td>\n",
       "      <td>0.219131</td>\n",
       "      <td>0.219131</td>\n",
       "    </tr>\n",
       "    <tr>\n",
       "      <th>30</th>\n",
       "      <td>0.179756</td>\n",
       "      <td>0.135445</td>\n",
       "      <td>0.135445</td>\n",
       "      <td>0.111083</td>\n",
       "      <td>0.219136</td>\n",
       "      <td>0.219136</td>\n",
       "    </tr>\n",
       "  </tbody>\n",
       "</table>\n",
       "</div>"
      ],
      "text/plain": [
       "           0         1         3         5         7         9\n",
       "0   1.000000  0.000000  0.000000  0.000000  0.000000  0.000000\n",
       "2   0.333333  0.166667  0.166667  0.000000  0.166667  0.166667\n",
       "4   0.222222  0.166667  0.166667  0.055556  0.194444  0.194444\n",
       "6   0.196262  0.154206  0.154206  0.084112  0.205607  0.205607\n",
       "8   0.187402  0.145669  0.145669  0.097638  0.211811  0.211811\n",
       "10  0.183554  0.140849  0.140849  0.104244  0.215252  0.215252\n",
       "12  0.181692  0.138267  0.138267  0.107569  0.217102  0.217102\n",
       "14  0.180752  0.136911  0.136911  0.109270  0.218078  0.218078\n",
       "16  0.180269  0.136203  0.136203  0.110148  0.218589  0.218589\n",
       "18  0.180019  0.135835  0.135835  0.110602  0.218854  0.218854\n",
       "20  0.179890  0.135643  0.135643  0.110838  0.218992  0.218992\n",
       "22  0.179823  0.135544  0.135544  0.110960  0.219064  0.219064\n",
       "24  0.179788  0.135493  0.135493  0.111024  0.219101  0.219101\n",
       "26  0.179770  0.135466  0.135466  0.111057  0.219121  0.219121\n",
       "28  0.179761  0.135452  0.135452  0.111074  0.219131  0.219131\n",
       "30  0.179756  0.135445  0.135445  0.111083  0.219136  0.219136"
      ]
     },
     "execution_count": 4,
     "metadata": {},
     "output_type": "execute_result"
    }
   ],
   "source": [
    "DF0_even=DF0[['0','1','3','5','7','9']]\n",
    "print(\"The probabilities of starting from '0' after an even-number steps.\")\n",
    "DF0_even[DF0_even['0'] != 0.0]\n"
   ]
  },
  {
   "cell_type": "markdown",
   "metadata": {},
   "source": [
    "The probability **pr(0)** is decreasing from **1.0000** and converging to a value of **0.1797** while **pr(5)** is increasing from **0.0556** at the 4th step and converging to **0.1111**. Plot of the results for even number steps associated with **V1** and odd number steps for **V2** are shown below. The probabilities are decreasing for {**0,1,3**}  and increasing for {**5,7,9**} in **V1**, and are decreasing for {**4,6,8**}  and increasing for {**2,*,#**} in **V2**. "
   ]
  },
  {
   "cell_type": "code",
   "execution_count": 5,
   "metadata": {},
   "outputs": [],
   "source": [
    "import matplotlib.pyplot as plt\n",
    "%matplotlib inline"
   ]
  },
  {
   "cell_type": "code",
   "execution_count": 6,
   "metadata": {},
   "outputs": [
    {
     "data": {
      "text/plain": [
       "<matplotlib.text.Text at 0x8d79668>"
      ]
     },
     "execution_count": 6,
     "metadata": {},
     "output_type": "execute_result"
    },
    {
     "data": {
      "image/png": "[encoded data removed]",
      "text/plain": [
       "<matplotlib.figure.Figure at 0x48a4710>"
      ]
     },
     "metadata": {},
     "output_type": "display_data"
    }
   ],
   "source": [
    "DF0_even[DF0_even['0'] != 0.0].plot.bar(figsize=(10,4),stacked=True,ylim=(0,1)).set_xlim([-1,20])\n",
    "plt.title('Probabilities of starting from vertex 0 to V1={0,1,3,5,7,9}')\n",
    "plt.xlabel('Steps')\n",
    "plt.ylabel('Probability')\n"
   ]
  },
  {
   "cell_type": "code",
   "execution_count": 7,
   "metadata": {
    "scrolled": true
   },
   "outputs": [
    {
     "data": {
      "text/plain": [
       "<matplotlib.text.Text at 0x9d22400>"
      ]
     },
     "execution_count": 7,
     "metadata": {},
     "output_type": "execute_result"
    },
    {
     "data": {
      "image/png": "[encoded data removed]",
      "text/plain": [
       "<matplotlib.figure.Figure at 0x8ca04a8>"
      ]
     },
     "metadata": {},
     "output_type": "display_data"
    }
   ],
   "source": [
    "DF0_odd=DF0[['2','4','6','8','*','#']]\n",
    "DF0_odd[DF0_odd['4'] != 0.0].plot.bar(figsize=(10,4),stacked=True,ylim=(0,1)).set_xlim([-1,20])\n",
    "plt.title('Probabilities of starting from vertex 0 to V2={2,4,6,8,*,#}')\n",
    "plt.xlabel('Steps')\n",
    "plt.ylabel('Probability')\n"
   ]
  },
  {
   "cell_type": "markdown",
   "metadata": {},
   "source": [
    "Repeating the same procedures for starting vertex **4**."
   ]
  },
  {
   "cell_type": "code",
   "execution_count": 8,
   "metadata": {},
   "outputs": [],
   "source": [
    "Nstep=31\n",
    "A=np.eye(12)        # A^0=I\n",
    "v=np.zeros((NV,1))\n",
    "v[4,0]=1.           # vertex 4\n",
    "\n",
    "B=np.zeros((Nstep,12)) # stores the probability after each step \n",
    "Q=np.zeros(Nstep)      # stores the total number of possible paths after each step\n",
    "for i in range(Nstep):\n",
    "    Q[i]=sum(np.dot(A,v))\n",
    "    B[i]=np.dot(A,v).T/Q[i]\n",
    "    A=np.dot(A,M)\n"
   ]
  },
  {
   "cell_type": "code",
   "execution_count": 9,
   "metadata": {},
   "outputs": [],
   "source": [
    "DF4=pd.DataFrame(B,columns='0 1 2 3 4 5 6 7 8 9 * #'.split())\n",
    "DF4_even=DF4[['2','4','6','8','*','#']]\n",
    "DF4_odd=DF4[['0','1','3','5','7','9']]\n"
   ]
  },
  {
   "cell_type": "code",
   "execution_count": 10,
   "metadata": {},
   "outputs": [
    {
     "data": {
      "text/plain": [
       "<matplotlib.text.Text at 0x9b28438>"
      ]
     },
     "execution_count": 10,
     "metadata": {},
     "output_type": "execute_result"
    },
    {
     "data": {
      "image/png": "[encoded data removed]",
      "text/plain": [
       "<matplotlib.figure.Figure at 0xa0d9048>"
      ]
     },
     "metadata": {},
     "output_type": "display_data"
    }
   ],
   "source": [
    "DF4_even[DF4_even['4'] != 0.0].plot.bar(figsize=(10,4),stacked=True,ylim=(0,1)).set_xlim([-1,20])\n",
    "plt.title('Probabilities of starting from vertex 4 to V2={2,4,6,8,*,#}')\n",
    "plt.xlabel('Steps')\n",
    "plt.ylabel('Probability')\n"
   ]
  },
  {
   "cell_type": "code",
   "execution_count": 11,
   "metadata": {},
   "outputs": [
    {
     "data": {
      "text/plain": [
       "<matplotlib.text.Text at 0xa6cbb00>"
      ]
     },
     "execution_count": 11,
     "metadata": {},
     "output_type": "execute_result"
    },
    {
     "data": {
      "image/png": "[encoded data removed]",
      "text/plain": [
       "<matplotlib.figure.Figure at 0xa6a4438>"
      ]
     },
     "metadata": {},
     "output_type": "display_data"
    }
   ],
   "source": [
    "DF4_odd[DF4_odd['0'] != 0.0].plot.bar(figsize=(10,4),stacked=True,ylim=(0,1)).set_xlim([-1,20])\n",
    "plt.title('Probabilities of starting from vertex 4 to V1={0,1,3,5,7,9}')\n",
    "plt.xlabel('Steps')\n",
    "plt.ylabel('Probability')\n"
   ]
  },
  {
   "cell_type": "markdown",
   "metadata": {},
   "source": [
    "Repeating the same procedures for vertex **5**."
   ]
  },
  {
   "cell_type": "code",
   "execution_count": 12,
   "metadata": {},
   "outputs": [],
   "source": [
    "Nstep=31\n",
    "A=np.eye(12)        # A^0=I\n",
    "v=np.zeros((NV,1))\n",
    "v[5,0]=1.           # vertex 5\n",
    "\n",
    "B=np.zeros((Nstep,12)) # stores the probability after each step \n",
    "Q=np.zeros(Nstep)      # stores the total number of possible paths after each step\n",
    "for i in range(Nstep):\n",
    "    Q[i]=sum(np.dot(A,v))\n",
    "    B[i]=np.dot(A,v).T/Q[i]\n",
    "    A=np.dot(A,M)\n"
   ]
  },
  {
   "cell_type": "code",
   "execution_count": 13,
   "metadata": {},
   "outputs": [],
   "source": [
    "DF5=pd.DataFrame(B,columns='0 1 2 3 4 5 6 7 8 9 * #'.split())\n",
    "DF5_odd=DF5[['2','4','6','8','*','#']]\n",
    "DF5_even=DF5[['0','1','3','5','7','9']]\n"
   ]
  },
  {
   "cell_type": "code",
   "execution_count": 14,
   "metadata": {},
   "outputs": [
    {
     "data": {
      "text/plain": [
       "<matplotlib.text.Text at 0xaebe160>"
      ]
     },
     "execution_count": 14,
     "metadata": {},
     "output_type": "execute_result"
    },
    {
     "data": {
      "image/png": "[encoded data removed]",
      "text/plain": [
       "<matplotlib.figure.Figure at 0xa101a90>"
      ]
     },
     "metadata": {},
     "output_type": "display_data"
    }
   ],
   "source": [
    "DF5_even[DF5_even['5'] != 0.0].plot.bar(figsize=(10,4),stacked=True,ylim=(0,1)).set_xlim([-1,20])\n",
    "plt.title('Probabilities of starting from vertex 5 to V1={0,1,3,5,7,9}')\n",
    "plt.xlabel('Steps')\n",
    "plt.ylabel('Probability')\n"
   ]
  },
  {
   "cell_type": "code",
   "execution_count": 15,
   "metadata": {
    "scrolled": true
   },
   "outputs": [
    {
     "data": {
      "text/plain": [
       "<matplotlib.text.Text at 0xb3a66d8>"
      ]
     },
     "execution_count": 15,
     "metadata": {},
     "output_type": "execute_result"
    },
    {
     "data": {
      "image/png": "[encoded data removed]",
      "text/plain": [
       "<matplotlib.figure.Figure at 0xb25deb8>"
      ]
     },
     "metadata": {},
     "output_type": "display_data"
    }
   ],
   "source": [
    "DF5_odd[DF5_odd['*'] != 0.0].plot.bar(figsize=(10,4),stacked=True,ylim=(0,1)).set_xlim([-1,20])\n",
    "plt.title('Probabilities of starting from vertex 5 to V2={2,4,6,8,*,#}')\n",
    "plt.xlabel('Steps')\n",
    "plt.ylabel('Probability')\n"
   ]
  },
  {
   "cell_type": "markdown",
   "metadata": {},
   "source": [
    "The final or asymptotic probability distribution patterns are the same for both vertex **0** and vertex **5**.  Though not shown, the above codes were also ran for all the other vertices and the same probability distribution pattern emerges.  This means that after a sufficiently large number of steps the probability of landing any button is the same regardless of which button you start on.  We check the results for non-bipartitie graph.     "
   ]
  },
  {
   "cell_type": "markdown",
   "metadata": {},
   "source": [
    "We add an edge (**2,4**) to the graph $G$ so that the graph is no longer bi-partite then we check the probability distribution after 40 steps. The results are the same as for the bipartite graph except the distribution is to all 12 vertiices are at each step. "
   ]
  },
  {
   "cell_type": "code",
   "execution_count": 16,
   "metadata": {},
   "outputs": [],
   "source": [
    "adj[2]=[4,7,9]\n",
    "adj[4]=[0,2,3,9]\n",
    "M1=np.zeros((NV,NV))\n",
    "for i in range (NV):\n",
    "    for a in adj[i]:\n",
    "        M1[i,int(a)]=1.\n"
   ]
  },
  {
   "cell_type": "code",
   "execution_count": 17,
   "metadata": {},
   "outputs": [],
   "source": [
    "Nstep=41\n",
    "A=np.eye(12)        # A^0=I\n",
    "v=np.zeros((NV,1))\n",
    "v[0,0]=1.           # v=(1,0,...,0)^T\n",
    "\n",
    "B=np.zeros((Nstep,12)) # stores the probability after each step \n",
    "Q=np.zeros(Nstep)      # stores the total number of possible paths after each step\n",
    "for i in range(Nstep):\n",
    "    Q[i]=sum(np.dot(A,v))\n",
    "    B[i]=np.dot(A,v).T/Q[i]\n",
    "    A=np.dot(A,M1)\n"
   ]
  },
  {
   "cell_type": "code",
   "execution_count": 18,
   "metadata": {},
   "outputs": [
    {
     "data": {
      "text/plain": [
       "<matplotlib.text.Text at 0xb921828>"
      ]
     },
     "execution_count": 18,
     "metadata": {},
     "output_type": "execute_result"
    },
    {
     "data": {
      "image/png": "[encoded data removed]",
      "text/plain": [
       "<matplotlib.figure.Figure at 0xad95710>"
      ]
     },
     "metadata": {},
     "output_type": "display_data"
    }
   ],
   "source": [
    "DFF0=pd.DataFrame(B,columns='0 1 2 3 4 5 6 7 8 9 * #'.split())\n",
    "DFF0.plot.bar(figsize=(10,4),stacked=True,ylim=(0,1)).set_xlim([-1,46])\n",
    "plt.title('Probabilities of starting from vertex 0 for graph with added edge (2,4)')\n",
    "plt.xlabel('Steps')\n",
    "plt.ylabel('Probability')\n"
   ]
  },
  {
   "cell_type": "code",
   "execution_count": 19,
   "metadata": {},
   "outputs": [],
   "source": [
    "Nstep=41\n",
    "A=np.eye(12)        # A^0=I\n",
    "v=np.zeros((NV,1))\n",
    "v[4,0]=1.           # vertex 4\n",
    "\n",
    "B=np.zeros((Nstep,12)) # stores the probability after each step \n",
    "Q=np.zeros(Nstep)      # stores the total number of possible paths after each step\n",
    "for i in range(Nstep):\n",
    "    Q[i]=sum(np.dot(A,v))\n",
    "    B[i]=np.dot(A,v).T/Q[i]\n",
    "    A=np.dot(A,M1)\n"
   ]
  },
  {
   "cell_type": "code",
   "execution_count": 20,
   "metadata": {},
   "outputs": [
    {
     "data": {
      "text/plain": [
       "<matplotlib.text.Text at 0xc06ec88>"
      ]
     },
     "execution_count": 20,
     "metadata": {},
     "output_type": "execute_result"
    },
    {
     "data": {
      "image/png": "[encoded data removed]",
      "text/plain": [
       "<matplotlib.figure.Figure at 0xb988ac8>"
      ]
     },
     "metadata": {},
     "output_type": "display_data"
    }
   ],
   "source": [
    "DFF4=pd.DataFrame(B,columns='0 1 2 3 4 5 6 7 8 9 * #'.split())\n",
    "DFF4.plot.bar(figsize=(10,4),stacked=True,ylim=(0,1)).set_xlim([-1,46])\n",
    "plt.title('Probabilities of starting from vertex 4 for graph with added edge (2,4)')\n",
    "plt.xlabel('Steps')\n",
    "plt.ylabel('Probability')\n"
   ]
  },
  {
   "cell_type": "code",
   "execution_count": 25,
   "metadata": {},
   "outputs": [],
   "source": [
    "Nstep=41\n",
    "A=np.eye(12)        # A^0=I\n",
    "v=np.zeros((NV,1))\n",
    "v[4,0]=1.           # vertex 4\n",
    "v[7,0]=3.\n",
    "B=np.zeros((Nstep,12)) # stores the probability after each step \n",
    "Q=np.zeros(Nstep)      # stores the total number of possible paths after each step\n",
    "for i in range(Nstep):\n",
    "    Q[i]=sum(np.dot(A,v))\n",
    "    B[i]=np.dot(A,v).T/Q[i]\n",
    "    A=np.dot(A,M1)\n"
   ]
  },
  {
   "cell_type": "code",
   "execution_count": 26,
   "metadata": {},
   "outputs": [
    {
     "data": {
      "text/plain": [
       "<matplotlib.text.Text at 0x10c614a8>"
      ]
     },
     "execution_count": 26,
     "metadata": {},
     "output_type": "execute_result"
    },
    {
     "data": {
      "image/png": "[encoded data removed]",
      "text/plain": [
       "<matplotlib.figure.Figure at 0x108de4a8>"
      ]
     },
     "metadata": {},
     "output_type": "display_data"
    }
   ],
   "source": [
    "DFFV=pd.DataFrame(B,columns='0 1 2 3 4 5 6 7 8 9 * #'.split())\n",
    "DFFV.plot.bar(figsize=(10,4),stacked=True,ylim=(0,1)).set_xlim([-1,46])\n",
    "plt.title('Probabilities of starting 1 from vertex 4 and 3 from vertex 7 for graph with added edge (2,4)')\n",
    "plt.xlabel('Steps')\n",
    "plt.ylabel('Probability')\n"
   ]
  },
  {
   "cell_type": "code",
   "execution_count": null,
   "metadata": {},
   "outputs": [],
   "source": []
  },
  {
   "cell_type": "markdown",
   "metadata": {},
   "source": [
    "### Conclusions\n",
    "If the number of steps is very large then the probability of landing on any button is the same regardless of where and how many knight chess pieces are placed and used."
   ]
  },
  {
   "cell_type": "markdown",
   "metadata": {},
   "source": [
    "This is true for all graphs $G$. The proof uses the Laplacian matrix of $G$ and I will present it if requested.   "
   ]
  },
  {
   "cell_type": "markdown",
   "metadata": {},
   "source": [
    "> Our result in mathematical terms for a non-bipartite graph (a bipartite graph has a slightly different format):"
   ]
  },
  {
   "cell_type": "markdown",
   "metadata": {},
   "source": [
    "$$lim_{n\\to\\infty} (M)^n = \\begin{bmatrix}\n",
    "                           p_1 \\alpha_1 &p_1 \\alpha_2 &\\cdots& p_1 \\alpha_N \\\\\n",
    "                           p_2 \\alpha_1 &p_2 \\alpha_2 &\\cdots& p_2 \\alpha_N \\\\\n",
    "                            \\vdots&\\vdots&\\ddots&\\vdots\\\\\n",
    "                           p_N \\alpha_1 &p_N \\alpha_2 &\\cdots& p_N \\alpha_N \\\\\n",
    "                            \\end{bmatrix}\n",
    "\\quad\\text{     where     }\\quad\n",
    "\\alpha_i = \\sum\\limits_{k=1}^{N} M_{ki}^n, \n",
    "\\quad p_i= \\frac{M_{ii}^n}{\\sum\\limits_{k=1}^{N} M_{ki}^n} \n",
    "$$."
   ]
  },
  {
   "cell_type": "markdown",
   "metadata": {},
   "source": [
    "Intuitively, the above is true by analogy to heat diffusion. It is analogous to the situation of introducing a hot item into a close insulated container.  The temperature everywhere in the container will eventually reach the same value regardless of where the item is placed initially."
   ]
  },
  {
   "cell_type": "markdown",
   "metadata": {},
   "source": [
    "> The heat equation in one-dimension:"
   ]
  },
  {
   "cell_type": "markdown",
   "metadata": {},
   "source": [
    "$$\n",
    "\\frac{\\partial T}{\\partial t}=\\beta \\frac{\\partial^2 T}{\\partial x^2}\n",
    "\\quad\\text{where}\\quad\n",
    "\\begin{matrix}\n",
    "x \\in [x_1,x_2]\\\\\n",
    "\\frac{dT}{dx} \\Bigr\\rvert_{x = x_1}=\\frac{dT}{dx} \\Bigr\\rvert_{x = x_2}=0\\\\\n",
    "\\beta \\text{ the diffusion coefficient}\\\\\n",
    "T(x_*,t=0)=1, x_* \\in [x_1,x_2]\\\\\n",
    "T(t=0)=0 \\text{ everywhere else}\n",
    "\\end{matrix}\n",
    "$$"
   ]
  },
  {
   "cell_type": "markdown",
   "metadata": {},
   "source": [
    "The probability vector $p$ is like the temperature $T$, the time derivative $\\partial /\\partial t$ the change from $n+1$ to $n-1$, and $\\beta\\partial^2 /\\partial x^2$ the change due to incoming and outgoing paths represented by the Laplacian matrix. "
   ]
  },
  {
   "cell_type": "markdown",
   "metadata": {},
   "source": [
    "The result is expected since the graph $G$ associated with $M$ represents a closed network system with no additional input or output introduced to the system after specifying the initial condition. So as $n \\to \\infty$ the system represented by $G$ should reach an equilibrium or steady state. "
   ]
  },
  {
   "cell_type": "markdown",
   "metadata": {},
   "source": [
    "Our deduced mathematical result has many practical applications, particularly in this age of \"big data\". Some examples are:\n",
    "1. Can be used to determine the friendship network for selling a product.\n",
    "2. If data is transmitted through specific channels, determine and find if there are any data leaks and where they are.\n",
    "3. If a virus is contacted on a road between two towns and people are traveling constantly on the roads in the region. What is the probability that a person will contract the virus zero, one, two or three times. Given this probability info, identify the infected road between the two towns."
   ]
  },
  {
   "cell_type": "markdown",
   "metadata": {},
   "source": [
    "I find myself asking the questions below regarding and related to the above examples and their implementation:"
   ]
  },
  {
   "cell_type": "markdown",
   "metadata": {},
   "source": [
    "> 1. How do we estimate the probability vector $p$? What info do we need for this? What is considered a good estimation? How accurate does $p$ have to be to give $M$ associated with $G$? How much \"fudging\" can we do?  I suspect there is some \"wiggle room\" because $|V|$ is finite, so the number of valid $p$ is also finite and discrete.  What range of values of $p$ can we rule out?  "
   ]
  },
  {
   "cell_type": "markdown",
   "metadata": {},
   "source": [
    "> 2. How large does $n$ have to be to get good results?  What factors affect the choice for $n$?  If we don't choose a large enough $n$, what type of results will we see? Of course, picking $n$ vey large means that $|\\alpha|$ is also very large, making numerical and computational errors more likely.  So what is the best range of choices for $n$?"
   ]
  },
  {
   "cell_type": "markdown",
   "metadata": {},
   "source": [
    "> 3. Given a good estimation for $p$,and we know $\\alpha$ and $n$, we can find an approximation of $M$ by applying spectral decomposition to $p\\alpha^T$. But how close will this approximation be? The diagonal of the exact $M$ is zeros, can we use some sort of optimization to adjust the $p\\alpha^T$ decomposition so that we get a better approximation of $M$. That is, a straight decomposition will give a \"blurred\" image of $M$ and we want the optimization to \"sharpened\" the image. What are some of the computational difficulties when $|V|$ gets very large? What if $M$ is fairly sparse? Which programs from *Scipy* or *SKlearn* are best for the job? (*I am currently working on this.*)  "
   ]
  },
  {
   "cell_type": "markdown",
   "metadata": {},
   "source": [
    "> 4. How well matched do the values for $n$ and $\\alpha$ have to be to give good results?  What happens if we use a value for $n$ that is less than the actual value associated with $\\alpha$?  If this happens, can we salvage the situation and when should we attempt to salvage?  What if we use a value for $n$ that is much larger than that used for calculating $\\alpha$? How do we adjust our solution technique to account for this potential discrepancy between $n$ and $\\alpha$?"
   ]
  },
  {
   "cell_type": "markdown",
   "metadata": {},
   "source": [
    "> 5. Suppose $G$ represents a network for messages sent back and forth between locations $v_i$. What plan should we use and what information should be collected by the operator placed at each location? If we have an errant operator(s) sleeping and not sending messages but leaving incoming messages to pile up. We can use our theory to find where the errant operator(s) is in our network and who he/they is connected to?  What type of information do we need to have and how accurate does this info need to be?"
   ]
  },
  {
   "cell_type": "markdown",
   "metadata": {},
   "source": [
    "> 6. What happens to $M$ if we add or subtract an edge from the existing graph $G$? Looking at $p(G)$ and $p(G-\\epsilon)$, $\\epsilon$ is the deleted edge, is it possible to find where $\\epsilon$ is? "
   ]
  },
  {
   "cell_type": "code",
   "execution_count": null,
   "metadata": {},
   "outputs": [],
   "source": []
  },
  {
   "cell_type": "code",
   "execution_count": null,
   "metadata": {},
   "outputs": [],
   "source": []
  }
 ],
 "metadata": {
  "kernelspec": {
   "display_name": "Python 2",
   "language": "python",
   "name": "python2"
  },
  "language_info": {
   "codemirror_mode": {
    "name": "ipython",
    "version": 2
   },
   "file_extension": ".py",
   "mimetype": "text/x-python",
   "name": "python",
   "nbconvert_exporter": "python",
   "pygments_lexer": "ipython2",
   "version": "2.7.15"
  }
 },
 "nbformat": 4,
 "nbformat_minor": 2
}
